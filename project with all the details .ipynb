{
 "cells": [
  {
   "cell_type": "markdown",
   "id": "326c6430-d1ed-4963-846c-d6b6a86fb7c2",
   "metadata": {},
   "source": [
    "### Install Required Libraries\n",
    "\n",
    "These are the tools your notebook needs to detect faces, analyze emotions, and show graphs."
   ]
  },
  {
   "cell_type": "code",
   "execution_count": null,
   "id": "f14f862d-823c-4a19-924f-fab70c755545",
   "metadata": {},
   "outputs": [],
   "source": [
    "!pip install deepface opencv-python pandas matplotlib\n"
   ]
  },
  {
   "cell_type": "code",
   "execution_count": null,
   "id": "bee21455-216f-46f9-af79-4946430f18a5",
   "metadata": {},
   "outputs": [],
   "source": []
  },
  {
   "cell_type": "markdown",
   "id": "f3af0c01-902d-4e60-b8af-7c64a27b0103",
   "metadata": {},
   "source": [
    "### Import All Necessary Libraries\n",
    "\n",
    "To bring all the features (image handling, emotion detection, charting) into your project"
   ]
  },
  {
   "cell_type": "markdown",
   "id": "6de083f1-0f91-4601-ab60-46e2ee2af8c2",
   "metadata": {},
   "source": [
    "cv2: Access webcam and process images.\n",
    "\n",
    "DeepFace: Detect emotions, age, gender, and identity from faces.\n",
    "\n",
    "pandas: Store and manage emotion data in tables.\n",
    "\n",
    "datetime: Add timestamps to emotion data.\n",
    "\n",
    "matplotlib.pyplot: Plot graphs of mood or emotion trends."
   ]
  },
  {
   "cell_type": "code",
   "execution_count": null,
   "id": "7f95d547-4ef6-49ad-830a-fbad59b5bd83",
   "metadata": {},
   "outputs": [],
   "source": [
    "import cv2\n",
    "from deepface import DeepFace\n",
    "import pandas as pd\n",
    "from datetime import datetime\n",
    "import matplotlib.pyplot as plt\n"
   ]
  },
  {
   "cell_type": "code",
   "execution_count": null,
   "id": "2d07b329-d77d-4166-aa95-3e0270d8232a",
   "metadata": {},
   "outputs": [],
   "source": []
  },
  {
   "cell_type": "markdown",
   "id": "4312bdb2-9560-4f91-8d71-aa8ef3fddaf6",
   "metadata": {},
   "source": [
    "### Open Your Webcam and Capture Image\n",
    "\n",
    "To take a photo of your face in real-time using the laptop camera."
   ]
  },
  {
   "cell_type": "markdown",
   "id": "0474a548-89cf-41b1-9f1c-57fb7634347d",
   "metadata": {},
   "source": [
    "Open webcam\n",
    "\n",
    "Capture a photo\n",
    "\n",
    "Show the photo in a window\n",
    "\n",
    "Wait for a key press\n",
    "\n",
    "Close the window\n",
    "\n",
    "Release the webcam"
   ]
  },
  {
   "cell_type": "code",
   "execution_count": null,
   "id": "eaffeedb-0925-4d68-b00e-e105b3f76123",
   "metadata": {},
   "outputs": [],
   "source": [
    "cap = cv2.VideoCapture(0)\n",
    "ret, frame = cap.read()\n",
    "cv2.imshow('Press any key to capture', frame)\n",
    "cv2.waitKey(0)\n",
    "cv2.destroyAllWindows()\n",
    "cap.release()\n"
   ]
  },
  {
   "cell_type": "code",
   "execution_count": null,
   "id": "c914e973-7d46-481a-afe1-a50c5e039d9d",
   "metadata": {},
   "outputs": [],
   "source": []
  },
  {
   "cell_type": "markdown",
   "id": "e84e66a2-cac7-4419-8469-0876c1b110da",
   "metadata": {},
   "source": [
    "###  Save the Captured Frame as Image\n",
    "\n",
    "To save the image so DeepFace can analyze it."
   ]
  },
  {
   "cell_type": "markdown",
   "id": "4d35bc99-0f38-4fc5-a8fc-74c8151d2585",
   "metadata": {},
   "source": [
    "We use cv2.imwrite(\"captured_image.jpg\", frame) to save the captured image to a file on your computer."
   ]
  },
  {
   "cell_type": "code",
   "execution_count": null,
   "id": "3b321d3f-82dd-4348-b2c1-0cddf0378623",
   "metadata": {},
   "outputs": [],
   "source": [
    "cv2.imwrite(\"captured_image.jpg\", frame)"
   ]
  },
  {
   "cell_type": "code",
   "execution_count": null,
   "id": "b7640f00-262b-4354-a936-4324ed4ee642",
   "metadata": {},
   "outputs": [],
   "source": []
  },
  {
   "cell_type": "markdown",
   "id": "f42c5b4b-0d0f-4f9f-94a1-97febec652bf",
   "metadata": {},
   "source": [
    "###  Analyze Emotion with DeepFace\n",
    "\n",
    "\n",
    "This is where the AI detects what emotion is showing on your face."
   ]
  },
  {
   "cell_type": "markdown",
   "id": "7e9d9a5d-95ba-487b-b784-9dc7661d0951",
   "metadata": {},
   "source": [
    "We use this to detect and print the main emotion from the captured image using DeepFace."
   ]
  },
  {
   "cell_type": "code",
   "execution_count": null,
   "id": "f842d5b5-985c-412e-94c0-048fb5d08b32",
   "metadata": {},
   "outputs": [],
   "source": [
    "result = DeepFace.analyze(img_path=\"captured_image.jpg\", actions=['emotion'], enforce_detection=False)\n",
    "print(\"Detected Emotion:\", result[0]['dominant_emotion'])\n"
   ]
  },
  {
   "cell_type": "code",
   "execution_count": null,
   "id": "37206168-56f9-45a3-b5f7-0503d0f472be",
   "metadata": {},
   "outputs": [],
   "source": []
  },
  {
   "cell_type": "markdown",
   "id": "1c8c7bc5-0999-4f21-aa8d-ecaed827bfa6",
   "metadata": {},
   "source": [
    "### Show Motivational Tip Based on Emotion\n",
    "\n",
    "\n",
    "Based on your emotion, the system gives helpful feedback."
   ]
  },
  {
   "cell_type": "markdown",
   "id": "d554c18b-734a-44d4-acf2-535e45e35f6b",
   "metadata": {},
   "source": [
    "We use this to show a helpful tip based on the detected emotion from the image."
   ]
  },
  {
   "cell_type": "code",
   "execution_count": null,
   "id": "d4586489-26d3-49a4-ad23-621961f81097",
   "metadata": {},
   "outputs": [],
   "source": [
    "emotion = result[0]['dominant_emotion']\n",
    "\n",
    "tips = {\n",
    "    \"happy\": \"Keep smiling! You're glowing today 😊\",\n",
    "    \"sad\": \"It's okay to feel down. Take a walk or talk to someone 💙\",\n",
    "    \"angry\": \"Take a deep breath and count to 10 🔥\",\n",
    "    \"surprise\": \"Something unexpected? Stay flexible! ✨\",\n",
    "    \"neutral\": \"Stay calm and balanced today 🤍\",\n",
    "    \"fear\": \"Try to ground yourself. You’re safe 🧘\",\n",
    "    \"disgust\": \"Shift focus. Watch something relaxing 🍃\"\n",
    "}\n",
    "\n",
    "print(\"Tip for you:\", tips.get(emotion, \"Stay strong and keep going 💪\"))\n"
   ]
  },
  {
   "cell_type": "code",
   "execution_count": null,
   "id": "a0f627c2-294a-4423-88a6-10f546cc05f1",
   "metadata": {},
   "outputs": [],
   "source": []
  },
  {
   "cell_type": "markdown",
   "id": "83ca3a8d-18f7-4c59-b5e5-48c51dd56c1b",
   "metadata": {},
   "source": [
    "### Save Detected Emotion to a CSV File\n",
    "\n",
    "\n",
    "To keep a record of your emotion every time you run the app."
   ]
  },
  {
   "cell_type": "markdown",
   "id": "5936d72e-d50c-4b90-be57-48400aed26a7",
   "metadata": {},
   "source": [
    "We use this to save the detected emotion with the current time into a CSV file for logging"
   ]
  },
  {
   "cell_type": "code",
   "execution_count": null,
   "id": "95e9fbde-f0c7-44cb-a11a-11132c40bfbf",
   "metadata": {},
   "outputs": [],
   "source": [
    "import os\n",
    "log_data = {\n",
    "    'timestamp': datetime.now().strftime('%Y-%m-%d %H:%M:%S'),\n",
    "    'emotion': emotion}\n",
    "df = pd.DataFrame([log_data])\n",
    "df.to_csv(\"emotion_log.csv\", mode='a', header=not os.path.isfile(\"emotion_log.csv\"), index=False)"
   ]
  },
  {
   "cell_type": "code",
   "execution_count": null,
   "id": "5f147be5-8ab4-4fac-9d87-9df675fc5301",
   "metadata": {},
   "outputs": [],
   "source": []
  },
  {
   "cell_type": "markdown",
   "id": "b45ea8f6-6ea8-433e-98e7-82ebd04cb23a",
   "metadata": {},
   "source": [
    "### Show Emotion History as a Graph\n",
    "\n",
    "To visualize how your emotions have changed over time."
   ]
  },
  {
   "cell_type": "markdown",
   "id": "17cad7ff-f1ea-4526-95bd-498dffd4f8f9",
   "metadata": {},
   "source": [
    "We use this code to analyze and visualize how often each emotion was detected over time.\n",
    "It helps you understand your emotional patterns using a bar chart."
   ]
  },
  {
   "cell_type": "code",
   "execution_count": null,
   "id": "55018f33-c8dc-4c06-ae1e-132474d77536",
   "metadata": {},
   "outputs": [],
   "source": [
    "data = pd.read_csv(\"emotion_log.csv\")\n",
    "emotion_counts = data['emotion'].value_counts()\n",
    "plt.figure(figsize=(8,5))\n",
    "emotion_counts.plot(kind='bar', color='skyblue')\n",
    "plt.title(\"Your Emotion History\")\n",
    "plt.xlabel(\"Emotion\")\n",
    "plt.ylabel(\"Count\")\n",
    "plt.grid(True)\n",
    "plt.show()\n"
   ]
  },
  {
   "cell_type": "code",
   "execution_count": null,
   "id": "95442ea4-e84b-4ba0-8485-426d31d88db5",
   "metadata": {},
   "outputs": [],
   "source": []
  },
  {
   "cell_type": "code",
   "execution_count": null,
   "id": "714b7a05-8f29-47c9-93b2-7ab26e5252ed",
   "metadata": {},
   "outputs": [],
   "source": []
  },
  {
   "cell_type": "markdown",
   "id": "2ee2a56b-3f46-4dac-ad3c-e40cb3061dae",
   "metadata": {},
   "source": [
    "### Summary of What This Project Does:\n",
    "\n",
    "\n",
    "*Step*\t                           *What it Does*\t                              *Why it's Important*\n",
    "_________________________________________________________________________________________________________________________________________________________\n",
    "1\t                               Installs libraries\t                       Brings tools needed for project\n",
    "_________________________________________________________________________________________________________________________________________________________\n",
    "2\t                               Imports packages\t                           Allows image, AI, and graph work\n",
    "_________________________________________________________________________________________________________________________________________________________\n",
    "3\t                               Opens webcam\t                               Captures your real face\n",
    "_________________________________________________________________________________________________________________________________________________________\n",
    "4\t                               Saves image\t                               Needed for analysis\n",
    "_________________________________________________________________________________________________________________________________________________________\n",
    "5\t                               Analyzes emotion\t                           Detects your mood using AI\n",
    "_________________________________________________________________________________________________________________________________________________________\n",
    "6\t                               Shows advice\t                                Makes app useful and human\n",
    "_________________________________________________________________________________________________________________________________________________________\n",
    "7\t                               Saves to CSV\t                                Tracks mood for daily log\n",
    "_________________________________________________________________________________________________________________________________________________________\n",
    "8\t                               Shows chart\t                                Helps user reflect on mental health\n",
    "\n"
   ]
  },
  {
   "cell_type": "code",
   "execution_count": null,
   "id": "4641ee3f-9785-4477-96bd-1a5a28ae3c17",
   "metadata": {},
   "outputs": [],
   "source": []
  }
 ],
 "metadata": {
  "kernelspec": {
   "display_name": "Python 3 (ipykernel)",
   "language": "python",
   "name": "python3"
  },
  "language_info": {
   "codemirror_mode": {
    "name": "ipython",
    "version": 3
   },
   "file_extension": ".py",
   "mimetype": "text/x-python",
   "name": "python",
   "nbconvert_exporter": "python",
   "pygments_lexer": "ipython3",
   "version": "3.12.7"
  }
 },
 "nbformat": 4,
 "nbformat_minor": 5
}
