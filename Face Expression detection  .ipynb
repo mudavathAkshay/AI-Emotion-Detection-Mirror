{
 "cells": [
  {
   "cell_type": "code",
   "execution_count": 2,
   "id": "e2df4713-efb7-4678-8894-828017ad70f0",
   "metadata": {},
   "outputs": [
    {
     "name": "stdout",
     "output_type": "stream",
     "text": [
      "WARNING:tensorflow:From C:\\Users\\mudav\\AppData\\Roaming\\Python\\Python312\\site-packages\\tf_keras\\src\\losses.py:2976: The name tf.losses.sparse_softmax_cross_entropy is deprecated. Please use tf.compat.v1.losses.sparse_softmax_cross_entropy instead.\n",
      "\n"
     ]
    }
   ],
   "source": [
    "import cv2\n",
    "from deepface import DeepFace\n",
    "import pandas as pd\n",
    "from datetime import datetime\n",
    "import matplotlib.pyplot as plt"
   ]
  },
  {
   "cell_type": "code",
   "execution_count": 3,
   "id": "4d1b37fd-5ee6-466e-a5b9-9688aad7e35e",
   "metadata": {},
   "outputs": [],
   "source": [
    "cap = cv2.VideoCapture(0)\n",
    "ret, frame = cap.read()\n",
    "cv2.imshow('Press any key to capture', frame)\n",
    "cv2.waitKey(0)\n",
    "cv2.destroyAllWindows()\n",
    "cap.release()\n"
   ]
  },
  {
   "cell_type": "code",
   "execution_count": 4,
   "id": "fac15176-246c-4a94-9523-ab3ad963f75d",
   "metadata": {},
   "outputs": [
    {
     "data": {
      "text/plain": [
       "True"
      ]
     },
     "execution_count": 4,
     "metadata": {},
     "output_type": "execute_result"
    }
   ],
   "source": [
    "cv2.imwrite(\"captured_image.jpg\", frame)"
   ]
  },
  {
   "cell_type": "code",
   "execution_count": 5,
   "id": "f0f690bb-ac07-481f-baa9-b24bb6328d63",
   "metadata": {},
   "outputs": [
    {
     "name": "stdout",
     "output_type": "stream",
     "text": [
      "25-07-04 20:42:02 - facial_expression_model_weights.h5 will be downloaded...\n"
     ]
    },
    {
     "name": "stderr",
     "output_type": "stream",
     "text": [
      "Downloading...\n",
      "From: https://github.com/serengil/deepface_models/releases/download/v1.0/facial_expression_model_weights.h5\n",
      "To: C:\\Users\\mudav\\.deepface\\weights\\facial_expression_model_weights.h5\n",
      "100%|██████████████████████████████████████████████████████████████████████████████| 5.98M/5.98M [00:55<00:00, 109kB/s]\n"
     ]
    },
    {
     "name": "stdout",
     "output_type": "stream",
     "text": [
      "Detected Emotion: neutral\n"
     ]
    }
   ],
   "source": [
    "result = DeepFace.analyze(img_path=\"captured_image.jpg\", actions=['emotion'], enforce_detection=False)\n",
    "print(\"Detected Emotion:\", result[0]['dominant_emotion'])"
   ]
  },
  {
   "cell_type": "code",
   "execution_count": 6,
   "id": "910eb3cd-00bc-4b4c-a4ab-2b28e460c2c3",
   "metadata": {},
   "outputs": [
    {
     "name": "stdout",
     "output_type": "stream",
     "text": [
      "Tip for you: Stay calm and balanced today 🤍\n"
     ]
    }
   ],
   "source": [
    "emotion = result[0]['dominant_emotion']\n",
    "\n",
    "tips = {\n",
    "    \"happy\": \"Keep smiling! You're glowing today 😊\",\n",
    "    \"sad\": \"It's okay to feel down. Take a walk or talk to someone 💙\",\n",
    "    \"angry\": \"Take a deep breath and count to 10 🔥\",\n",
    "    \"surprise\": \"Something unexpected? Stay flexible! ✨\",\n",
    "    \"neutral\": \"Stay calm and balanced today 🤍\",\n",
    "    \"fear\": \"Try to ground yourself. You’re safe 🧘\",\n",
    "    \"disgust\": \"Shift focus. Watch something relaxing 🍃\"\n",
    "}\n",
    "\n",
    "print(\"Tip for you:\", tips.get(emotion, \"Stay strong and keep going 💪\"))\n"
   ]
  },
  {
   "cell_type": "code",
   "execution_count": 11,
   "id": "ba32c9f5-bc5d-4b96-be4b-6696ed16a69e",
   "metadata": {},
   "outputs": [],
   "source": [
    "import os\n",
    "log_data = {\n",
    "    'timestamp': datetime.now().strftime('%Y-%m-%d %H:%M:%S'),\n",
    "    'emotion': emotion}\n",
    "df = pd.DataFrame([log_data])\n",
    "df.to_csv(\"emotion_log.csv\", mode='a', header=not os.path.isfile(\"emotion_log.csv\"), index=False)"
   ]
  },
  {
   "cell_type": "code",
   "execution_count": 12,
   "id": "3a15a44b-5a09-45ab-89bd-3d3da984005a",
   "metadata": {},
   "outputs": [
    {
     "data": {
      "image/png": "[encoded data removed]",
      "text/plain": [
       "<Figure size 800x500 with 1 Axes>"
      ]
     },
     "metadata": {},
     "output_type": "display_data"
    }
   ],
   "source": [
    "data = pd.read_csv(\"emotion_log.csv\")\n",
    "emotion_counts = data['emotion'].value_counts()\n",
    "plt.figure(figsize=(8,5))\n",
    "emotion_counts.plot(kind='bar', color='skyblue')\n",
    "plt.title(\"Your Emotion History\")\n",
    "plt.xlabel(\"Emotion\")\n",
    "plt.ylabel(\"Count\")\n",
    "plt.grid(True)\n",
    "plt.show()"
   ]
  },
  {
   "cell_type": "code",
   "execution_count": 13,
   "id": "0d853621-1d75-48cd-acde-6ec4ae5dff4f",
   "metadata": {},
   "outputs": [
    {
     "name": "stdout",
     "output_type": "stream",
     "text": [
      "Today's Mood Summary: neutral\n"
     ]
    }
   ],
   "source": [
    "today = pd.Timestamp.now().strftime('%Y-%m-%d')\n",
    "today_data = data[data['timestamp'].str.contains(today)]\n",
    "if not today_data.empty:\n",
    "    today_top = today_data['emotion'].value_counts().idxmax()\n",
    "    print(\"Today's Mood Summary:\", today_top)\n"
   ]
  },
  {
   "cell_type": "code",
   "execution_count": 14,
   "id": "718a3a42-12d1-4139-b5a3-6523cf2b451c",
   "metadata": {},
   "outputs": [
    {
     "name": "stdout",
     "output_type": "stream",
     "text": [
      "2.19.0\n"
     ]
    }
   ],
   "source": [
    "import tensorflow as tf\n",
    "print(tf.__version__)"
   ]
  },
  {
   "cell_type": "code",
   "execution_count": null,
   "id": "26111a1c-4079-45e8-83dd-363a9b4c1077",
   "metadata": {},
   "outputs": [],
   "source": []
  }
 ],
 "metadata": {
  "kernelspec": {
   "display_name": "Python 3 (ipykernel)",
   "language": "python",
   "name": "python3"
  },
  "language_info": {
   "codemirror_mode": {
    "name": "ipython",
    "version": 3
   },
   "file_extension": ".py",
   "mimetype": "text/x-python",
   "name": "python",
   "nbconvert_exporter": "python",
   "pygments_lexer": "ipython3",
   "version": "3.12.7"
  }
 },
 "nbformat": 4,
 "nbformat_minor": 5
}
